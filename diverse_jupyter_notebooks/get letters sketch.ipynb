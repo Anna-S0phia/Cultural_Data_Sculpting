{
 "cells": [
  {
   "cell_type": "markdown",
   "metadata": {
    "id": "Z3I2EQ7zpA03"
   },
   "source": [
    "# Get Vasari letters from Fondazione Memofonte (https://www.memofonte.it/ricerche/giorgio-vasari/) with Beautiful Soup"
   ]
  },
  {
   "cell_type": "markdown",
   "metadata": {},
   "source": [
    "#### based on Jeri Wieringa, \"Intro to Beautiful Soup,\" The Programming Historian 1 (2012), https://doi.org/10.46430/phen0008."
   ]
  },
  {
   "cell_type": "code",
   "execution_count": 11,
   "metadata": {},
   "outputs": [],
   "source": [
    "import urllib.request, urllib.error, urllib.parse\n",
    "import csv\n",
    "from bs4 import BeautifulSoup\n",
    "import html2text\n",
    "import os\n"
   ]
  },
  {
   "cell_type": "code",
   "execution_count": 22,
   "metadata": {
    "id": "-70-izUupA1J",
    "outputId": "895bb317-6eef-4c83-e54c-cae160f6374f"
   },
   "outputs": [],
   "source": [
    "# open-webpage.py\n",
    "\n",
    "url_test = 'https://www.memofonte.it/home/ricerca/singolo_17.php?id=1'\n",
    "\n",
    "response = urllib.request.urlopen(url_test)\n",
    "webContent = response.read()\n",
    "\n",
    "#print(webContent)"
   ]
  },
  {
   "cell_type": "code",
   "execution_count": 44,
   "metadata": {
    "id": "-EIOmpPjpA1N",
    "outputId": "ede59102-e02e-4ef5-8b3d-441a9f141e68"
   },
   "outputs": [],
   "source": [
    "# save-webpage.py\n",
    "\n",
    "f = open('letters/vasari-letter1.html', 'wb')\n",
    "f.write(webContent)\n",
    "f.close()"
   ]
  },
  {
   "cell_type": "code",
   "execution_count": 17,
   "metadata": {},
   "outputs": [],
   "source": [
    "# make Beautiful Soup\n",
    "\n",
    "soup = BeautifulSoup(open('letters/vasari-letter1.html'), \"lxml\")\n",
    "#soup.original_encoding"
   ]
  },
  {
   "cell_type": "code",
   "execution_count": 43,
   "metadata": {},
   "outputs": [
    {
     "data": {
      "text/plain": [
       "[<p><b>Numero d'ordine:</b> 1</p>,\n",
       " <p><b>Data:</b> 30 05  1537</p>,\n",
       " <p><b>Intestazione:</b> CRISTOFANO DI MONTAUTO IN FIRENZE A GIORGIO VASARI IN AREZZO</p>,\n",
       " <p><b>Segnatura:</b> ASA, AV, 13 (XLVII), cc. 106, 112.</p>,\n",
       " <p><b>Fonte:</b> Giorgio carissimo.<br/>Perché infino adesso nonn è stato di bisognio iscrivere, e per non avere lo cuore lietto e iscrivendo altro che cose inportante, bisogerebbe iscrivere lamentazione più che quelle di Geremia, per infino adesso non t’ho iscritto. E perché fa di necesità iscrivere, mi sono messo a farlo. E la causa è che e’ nostro Luca Paganelli ha oposto qui alla mercanzia, che per esere istate le ragioni, donde dipende e’ debito Aretino, non lo posiano istrigere di qua, di sorte che abiano fatto, come chi zappa i[n] rena, che quanto più zappa, manco lavora e basta. <br/>Èssi presso questa risoluzione di mandare tutte li scriture costì al comesario, le quali sono che queste, cor una letera di favore a esso comesario, che costì vega, se si può cavarlli. Per tanto alla autta di questa, presenterai essa letera a detto comesario co’ dette iscriture, co’ acomadarlli la causa e vedere se bisognia di fare cosa alcuna, e solecitarllo di vedere, se per tale versso ucissi. E bisogniando niette di qua, avisa; e come disopra è detto, no mi distenderò nello iscrivere, perché no direi altro che lametazione e inproperi, poi che vole così la fortuna. Altro non s’ha dire. Che Nostro Signiore Idio felice ti conservi e di male ti guardi. <br/>Di Firenze alli di XXX di maggio 1537. <br/>Per il tuo<br/>Cristofano da Montaguto. <br/>Al suo da fratello Giorgio di Giorgin pitore d’Arezo. In Arezo. <br/></p>,\n",
       " <p><b>Bibliografia:</b> Frey 1923, pp. 83-84.</p>,\n",
       " <p><input onclick=\"javascript:window.close()\" type=\"button\" value=\"Chiudi\"/></p>]"
      ]
     },
     "execution_count": 43,
     "metadata": {},
     "output_type": "execute_result"
    }
   ],
   "source": [
    "p_arrray = soup.find_all('p')\n",
    "p_arrray"
   ]
  },
  {
   "cell_type": "code",
   "execution_count": null,
   "metadata": {},
   "outputs": [],
   "source": []
  },
  {
   "cell_type": "markdown",
   "metadata": {},
   "source": [
    "### Create list of URLs"
   ]
  },
  {
   "cell_type": "code",
   "execution_count": null,
   "metadata": {},
   "outputs": [],
   "source": [
    "datap = \"1\"\n",
    "filename = datap + '.txt'\n",
    "f = open(filename, 'w+')"
   ]
  },
  {
   "cell_type": "code",
   "execution_count": 16,
   "metadata": {},
   "outputs": [
    {
     "data": {
      "text/plain": [
       "1151"
      ]
     },
     "execution_count": 16,
     "metadata": {},
     "output_type": "execute_result"
    }
   ],
   "source": [
    "# letter-id is ranging from 1 to 1151\n",
    "\n",
    "url_list = []\n",
    "url_base = \"https://www.memofonte.it/home/ricerca/singolo_17.php?id=\"\n",
    "for i in range (1151):\n",
    "    url_list.append(url_base+ str(i+1))\n",
    "    \n",
    "len(url_list) "
   ]
  },
  {
   "cell_type": "code",
   "execution_count": 37,
   "metadata": {},
   "outputs": [
    {
     "data": {
      "text/plain": [
       "'Fonte:\\xa0Giorgio carissimo.Perché infino adesso nonn è stato di bisognio iscrivere, e per non avere lo cuore lietto e iscrivendo altro che cose inportante, bisogerebbe iscrivere lamentazione più che quelle di Geremia, per infino adesso non t’ho iscritto. E perché fa di necesità iscrivere, mi sono messo a farlo. E la causa è che e’ nostro Luca Paganelli ha oposto qui alla mercanzia, che per esere istate le ragioni, donde dipende e’ debito Aretino, non lo posiano istrigere di qua, di sorte che abiano fatto, come chi zappa i[n] rena, che quanto più zappa, manco lavora e basta. Èssi presso questa risoluzione di mandare tutte li scriture costì al comesario, le quali sono che queste, cor una letera di favore a esso comesario, che costì vega, se si può cavarlli. Per tanto alla autta di questa, presenterai essa letera a detto comesario co’ dette iscriture, co’ acomadarlli la causa e vedere se bisognia di fare cosa alcuna, e solecitarllo di vedere, se per tale versso ucissi. E bisogniando niette di qua, avisa; e come disopra è detto, no mi distenderò nello iscrivere, perché no direi altro che lametazione e inproperi, poi che vole così la fortuna. Altro non s’ha dire. Che Nostro Signiore Idio felice ti conservi e di male ti guardi. Di Firenze alli di XXX di maggio 1537. Per il tuoCristofano da Montaguto. Al suo da fratello Giorgio di Giorgin pitore d’Arezo. In Arezo. '"
      ]
     },
     "execution_count": 37,
     "metadata": {},
     "output_type": "execute_result"
    }
   ],
   "source": [
    "tryin = soup.find_all('p')\n",
    "(tryin[4]).text"
   ]
  },
  {
   "cell_type": "code",
   "execution_count": 41,
   "metadata": {},
   "outputs": [
    {
     "data": {
      "text/plain": [
       "<p><b>Fonte:</b> Giorgio carissimo.<br/>Perché infino adesso nonn è stato di bisognio iscrivere, e per non avere lo cuore lietto e iscrivendo altro che cose inportante, bisogerebbe iscrivere lamentazione più che quelle di Geremia, per infino adesso non t’ho iscritto. E perché fa di necesità iscrivere, mi sono messo a farlo. E la causa è che e’ nostro Luca Paganelli ha oposto qui alla mercanzia, che per esere istate le ragioni, donde dipende e’ debito Aretino, non lo posiano istrigere di qua, di sorte che abiano fatto, come chi zappa i[n] rena, che quanto più zappa, manco lavora e basta. <br/>Èssi presso questa risoluzione di mandare tutte li scriture costì al comesario, le quali sono che queste, cor una letera di favore a esso comesario, che costì vega, se si può cavarlli. Per tanto alla autta di questa, presenterai essa letera a detto comesario co’ dette iscriture, co’ acomadarlli la causa e vedere se bisognia di fare cosa alcuna, e solecitarllo di vedere, se per tale versso ucissi. E bisogniando niette di qua, avisa; e come disopra è detto, no mi distenderò nello iscrivere, perché no direi altro che lametazione e inproperi, poi che vole così la fortuna. Altro non s’ha dire. Che Nostro Signiore Idio felice ti conservi e di male ti guardi. <br/>Di Firenze alli di XXX di maggio 1537. <br/>Per il tuo<br/>Cristofano da Montaguto. <br/>Al suo da fratello Giorgio di Giorgin pitore d’Arezo. In Arezo. <br/></p>"
      ]
     },
     "execution_count": 41,
     "metadata": {},
     "output_type": "execute_result"
    }
   ],
   "source": [
    "(tryin[4])"
   ]
  },
  {
   "cell_type": "code",
   "execution_count": 19,
   "metadata": {},
   "outputs": [
    {
     "name": "stdout",
     "output_type": "stream",
     "text": [
      "<!DOCTYPE HTML PUBLIC \"-//W3C//DTD HTML 4.01 Transitional//EN\" \"http://www.w3.org/TR/html4/loose.dtd\">\n",
      "<html>\n",
      " <head>\n",
      "  <meta content=\"text/html; charset=utf-8\" http-equiv=\"Content-Type\"/>\n",
      "  <link href=\"../skins/memo/skin.css\" rel=\"stylesheet\" type=\"text/css\"/>\n",
      "  <script language=\"JavaScript\" src=\"../skins/memo/skin.js\">\n",
      "  </script>\n",
      "  <title>\n",
      "   Scheda archivio memofonte\n",
      "  </title>\n",
      " </head>\n",
      " <body>\n",
      "  <div id=\"scheda\">\n",
      "   <h1>\n",
      "    Scheda\n",
      "   </h1>\n",
      "   <p>\n",
      "    <b>\n",
      "     Numero d'ordine:\n",
      "    </b>\n",
      "    1\n",
      "   </p>\n",
      "   <p>\n",
      "    <b>\n",
      "     Data:\n",
      "    </b>\n",
      "    30 05  1537\n",
      "   </p>\n",
      "   <p>\n",
      "    <b>\n",
      "     Intestazione:\n",
      "    </b>\n",
      "    CRISTOFANO DI MONTAUTO IN FIRENZE A GIORGIO VASARI IN AREZZO\n",
      "   </p>\n",
      "   <p>\n",
      "    <b>\n",
      "     Segnatura:\n",
      "    </b>\n",
      "    ASA, AV, 13 (XLVII), cc. 106, 112.\n",
      "   </p>\n",
      "   <p>\n",
      "    <b>\n",
      "     Fonte:\n",
      "    </b>\n",
      "    Giorgio carissimo.\n",
      "    <br/>\n",
      "    Perché infino adesso nonn è stato di bisognio iscrivere, e per non avere lo cuore lietto e iscrivendo altro che cose inportante, bisogerebbe iscrivere lamentazione più che quelle di Geremia, per infino adesso non t’ho iscritto. E perché fa di necesità iscrivere, mi sono messo a farlo. E la causa è che e’ nostro Luca Paganelli ha oposto qui alla mercanzia, che per esere istate le ragioni, donde dipende e’ debito Aretino, non lo posiano istrigere di qua, di sorte che abiano fatto, come chi zappa i[n] rena, che quanto più zappa, manco lavora e basta.\n",
      "    <br/>\n",
      "    Èssi presso questa risoluzione di mandare tutte li scriture costì al comesario, le quali sono che queste, cor una letera di favore a esso comesario, che costì vega, se si può cavarlli. Per tanto alla autta di questa, presenterai essa letera a detto comesario co’ dette iscriture, co’ acomadarlli la causa e vedere se bisognia di fare cosa alcuna, e solecitarllo di vedere, se per tale versso ucissi. E bisogniando niette di qua, avisa; e come disopra è detto, no mi distenderò nello iscrivere, perché no direi altro che lametazione e inproperi, poi che vole così la fortuna. Altro non s’ha dire. Che Nostro Signiore Idio felice ti conservi e di male ti guardi.\n",
      "    <br/>\n",
      "    Di Firenze alli di XXX di maggio 1537.\n",
      "    <br/>\n",
      "    Per il tuo\n",
      "    <br/>\n",
      "    Cristofano da Montaguto.\n",
      "    <br/>\n",
      "    Al suo da fratello Giorgio di Giorgin pitore d’Arezo. In Arezo.\n",
      "    <br/>\n",
      "   </p>\n",
      "   <p>\n",
      "    <b>\n",
      "     Bibliografia:\n",
      "    </b>\n",
      "    Frey 1923, pp. 83-84.\n",
      "   </p>\n",
      "   <p>\n",
      "    <input onclick=\"javascript:window.close()\" type=\"button\" value=\"Chiudi\"/>\n",
      "   </p>\n",
      "  </div>\n",
      " </body>\n",
      "</html>\n",
      "\n"
     ]
    }
   ],
   "source": [
    "print(soup.prettify())"
   ]
  },
  {
   "cell_type": "code",
   "execution_count": 29,
   "metadata": {},
   "outputs": [],
   "source": [
    "text = (soup.get_text(strip=False))"
   ]
  },
  {
   "cell_type": "code",
   "execution_count": 32,
   "metadata": {},
   "outputs": [
    {
     "name": "stdout",
     "output_type": "stream",
     "text": [
      "\n",
      "\n",
      "\n",
      "\n",
      "\n",
      "Scheda archivio memofonte\n",
      "\n",
      "\n",
      "\n",
      "Scheda\n",
      "Numero d'ordine: 1\n",
      "Data: 30 05  1537\n",
      "Intestazione: CRISTOFANO DI MONTAUTO IN FIRENZE A GIORGIO VASARI IN AREZZO\n",
      "Segnatura: ASA, AV, 13 (XLVII), cc. 106, 112.\n",
      "Fonte: Giorgio carissimo.Perché infino adesso nonn è stato di bisognio iscrivere, e per non avere lo cuore lietto e iscrivendo altro che cose inportante, bisogerebbe iscrivere lamentazione più che quelle di Geremia, per infino adesso non t’ho iscritto. E perché fa di necesità iscrivere, mi sono messo a farlo. E la causa è che e’ nostro Luca Paganelli ha oposto qui alla mercanzia, che per esere istate le ragioni, donde dipende e’ debito Aretino, non lo posiano istrigere di qua, di sorte che abiano fatto, come chi zappa i[n] rena, che quanto più zappa, manco lavora e basta. Èssi presso questa risoluzione di mandare tutte li scriture costì al comesario, le quali sono che queste, cor una letera di favore a esso comesario, che costì vega, se si può cavarlli. Per tanto alla autta di questa, presenterai essa letera a detto comesario co’ dette iscriture, co’ acomadarlli la causa e vedere se bisognia di fare cosa alcuna, e solecitarllo di vedere, se per tale versso ucissi. E bisogniando niette di qua, avisa; e come disopra è detto, no mi distenderò nello iscrivere, perché no direi altro che lametazione e inproperi, poi che vole così la fortuna. Altro non s’ha dire. Che Nostro Signiore Idio felice ti conservi e di male ti guardi. Di Firenze alli di XXX di maggio 1537. Per il tuoCristofano da Montaguto. Al suo da fratello Giorgio di Giorgin pitore d’Arezo. In Arezo. \n",
      "Bibliografia: Frey 1923, pp. 83-84.\n",
      "\n",
      "\n",
      "\n",
      "\n",
      "\n"
     ]
    }
   ],
   "source": [
    "print(text)"
   ]
  },
  {
   "cell_type": "code",
   "execution_count": 9,
   "metadata": {
    "id": "q1xCj4-ppA1P"
   },
   "outputs": [],
   "source": [
    "string = str(webContent)\n",
    "#type(str(webContent))\n",
    "#string"
   ]
  },
  {
   "cell_type": "code",
   "execution_count": 10,
   "metadata": {
    "id": "98ltKNjfpA1P",
    "outputId": "6042a3ff-9682-43ea-a6fc-9d0465975ff4"
   },
   "outputs": [
    {
     "name": "stdout",
     "output_type": "stream",
     "text": [
      "423\n"
     ]
    }
   ],
   "source": [
    "#FIND <p>\n",
    "\n",
    "#f = open('vasari-archive.html', 'wb')\n",
    "message5a = string.find(\"<h1>\")\n",
    "print(message5a)"
   ]
  },
  {
   "cell_type": "code",
   "execution_count": 11,
   "metadata": {
    "id": "EIoxjR9GpA1Q",
    "outputId": "ac89e505-d34d-4a8c-ee8b-465591d61756"
   },
   "outputs": [
    {
     "name": "stdout",
     "output_type": "stream",
     "text": [
      "2478\n"
     ]
    }
   ],
   "source": [
    "#FIND <a id=\"page17\" name=\"page17\" title=\"Manitu/quantenspringe\n",
    "\n",
    "#f = open('vasari-archive.html', 'wb')\n",
    "message5b = string.find('</body>')\n",
    "print(message5b)"
   ]
  },
  {
   "cell_type": "code",
   "execution_count": null,
   "metadata": {
    "id": "CtS_TQYfpA1R"
   },
   "outputs": [],
   "source": [
    "# obo.py\n",
    "\n",
    "def stripTags(pageContents):\n",
    "    pageContents = str(pageContents)\n",
    "    startLoc = pageContents.find(\"<h3>\")\n",
    "    endLoc = pageContents.rfind(\"</body>\")\n",
    "\n",
    "    pageContents = pageContents[startLoc:endLoc]\n",
    "    return pageContents"
   ]
  },
  {
   "cell_type": "code",
   "execution_count": null,
   "metadata": {
    "id": "iiJ8na-upA1S"
   },
   "outputs": [],
   "source": [
    "#print((stripTags(string)))"
   ]
  },
  {
   "cell_type": "code",
   "execution_count": null,
   "metadata": {
    "id": "8rMqb9RwpA1T"
   },
   "outputs": [],
   "source": [
    "# obo.py\n",
    "def stripTags(pageContents, starttag, endtag):\n",
    "    pageContents = str(pageContents)\n",
    "    startLoc = pageContents.find(starttag)\n",
    "    endLoc = pageContents.rfind(endtag)\n",
    "\n",
    "    pageContents = pageContents[startLoc:endLoc]\n",
    "\n",
    "    inside = 0\n",
    "    text = ''\n",
    "\n",
    "    for char in pageContents:\n",
    "        if char == '<':\n",
    "            inside = 1\n",
    "        elif (inside == 1 and char == '>'):\n",
    "            inside = 0\n",
    "        elif inside == 1:\n",
    "            continue\n",
    "        else:\n",
    "            text += char\n",
    "\n",
    "    return text"
   ]
  },
  {
   "cell_type": "code",
   "execution_count": null,
   "metadata": {
    "id": "EScO8HwmpA1V",
    "outputId": "25540a3c-cf0d-4b13-f4a9-1f194f3ef01a"
   },
   "outputs": [
    {
     "name": "stdout",
     "output_type": "stream",
     "text": [
      "Giovanni Cimabue\\nGeboren um 1240 in Florenz, gestorben nach 1302 daselbst\\nDurch die endlosen Verheerungen, die das ungl\\xc3\\xbcckliche Italien zugrunde gerichtet und unterdr\\xc3\\xbcckt hatten, waren nicht nur alle Kunstdenkm\\xc3\\xa4ler zerst\\xc3\\xb6rt, sondern, was noch schlimmer war, es gab auch gar keine K\\xc3\\xbcnstler. Da wurde im Jahre 1240 in der edlen Familie der Cimabue Giovanni Cimabue geboren,Sein richtiger Name war Cenni dei Pepi, genannt Cimabue., der nach dem Willen Gottes das erste Licht in der Kunst der Malerei wieder entz\\xc3\\xbcnden sollte. Dieser schien, nach dem Urteil seines Vaters und anderer, einen ausgezeichneten und klaren Verstand zu haben; deshalb sollte er die Wissenschaften erlernen und wurde, als er heranwuchs, von seinem  Vater nach Santa Maria Novella zu einem Verwandten gebracht, der in jenem Kloster die Novizen die Grammatik lehrte. Doch anstatt sich in den Wissenschaften zu \\xc3\\xbcben, brachte Cimabue den ganzen Tag damit zu, auf B\\xc3\\xbccher und Bl\\xc3\\xa4tter Menschen, Pferde, H\\xc3\\xa4user und allerlei Phantasien zu zeichnen, und diese Neigung beg\\xc3\\xbcnstigte das Gl\\xc3\\xbcck. Die damaligen Befehlshaber der Stadt beriefen n\\xc3\\xa4mlich einige griechische Maler nach Florenz, welche die verlorene Kunst wiederherstellen sollten, und diese malten unter anderem auch die Kapelle der Gondi in Santa Maria Novella, deren Gew\\xc3\\xb6lbe und W\\xc3\\xa4nde nun fast ganz von der Zeit zerst\\xc3\\xb6rt sind. Nachdem Cimabue die ersten Schritte in der Kunst, die ihm so gefiel, gemacht hatte, entlief er oft der Schule und sah den ganzen Tag diesen Malern zu. Deshalb glaubten sie und sein Vater, er sei zur Malerei geschickt, und man k\\xc3\\xb6nne, wenn er sich ihr ganz widmete, auf eine ehrenvolle Zukunft hoffen. Daher wurde er zu seiner gro\\xc3\\x9fen Freude zu diesen K\\xc3\\xbcnstlern in die Lehre gegeben und brachte es durch unabl\\xc3\\xa4ssige \\xc3\\x9cbung und sein Talent bald dahin, da\\xc3\\x9f er in Zeichnung und Farbgebung seine Lehrmeister weit \\xc3\\xbcbertraf. Denn diese arbeiteten nicht nach der sch\\xc3\\xb6nen alten griechischen Manier, sondern, wie man das noch heute an ihren Werken sieht, in der groben und harten Weise jener Zeit, ohne da\\xc3\\x9f sie danach gestrebt h\\xc3\\xa4tten, weiterzuschreiten.\\nCimabue ahmte zwar jene Griechen nach, vervollkommnete aber die Kunst, da er ihr einen gro\\xc3\\x9fen Teil jener rohen Manier nahm, so da\\xc3\\x9f sein Name und seine Werke seiner Vaterstadt Ehre brachten. Hiervon zeugen viele Bilder, die er in Florenz malte, wie das Gem\\xc3\\xa4lde an der Vorderseite des Altars in Santa CeciliaDem sogenannten C\\xc3\\xa4cilienmeister vom Ende des 13. Jahrhunderts zugeschrieben, vielleicht Buonamico Buffalmaco, jetzt in den Uffizien. und ein Bild der Mutter Gottes in Santa Croce.Von einem sienesischen Maler des 14. Jahrhunderts. Jetzt im British Museum in London. Hierauf malte er auf Goldgrund einen heiligen Franziskus nach der Natur, so gut er es konnte, was in jenen Zeiten etwas Neues war, und ringsumher Geschichten aus seinem Leben in zwanzig Bilderchen voll kleiner Figuren auf Goldgrund.In der Cappella Bardi in Santa Croce.\\nDann \\xc3\\xbcbernahm er f\\xc3\\xbcr die M\\xc3\\xb6nche von Vallombrosa in der Abtei von Santa Trinit\\xc3\\xa0 zu Florenz eine gro\\xc3\\x9fe Tafel. Er verwendete dabei gro\\xc3\\x9fen Flei\\xc3\\x9f, um dem Ruf zu entsprechen, den er sich erworben hatte, und zeigte bereits bessere Erfindung und sch\\xc3\\xb6ne Stellungen. Es war  eine Mutter Gottes mit dem Kind auf dem Arm und vielen Engeln umher, die ihr huldigen, auf Goldgrund.In den Uffizien. Als er dieses Werk vollendet hatte, mu\\xc3\\x9fte er f\\xc3\\xbcr den Guardian, der ihm den Auftrag in Santa Croce gegeben hatte, ein gro\\xc3\\x9fes Kruzifix auf Holz malen.Museo dell\\' Opera von Santa Croce. Autorschaft Cimabues angezweifelt.\\nDurch diese Arbeiten wurde der Name Cimabues immer bekannter, und man berief ihn nach Assisi, einer Stadt in Umbrien, wo er gemeinsam mit einigen griechischen Malern in der Unterkirche des heiligen Franziskus einen Teil des Gew\\xc3\\xb6lbes malte und auf den W\\xc3\\xa4nden die Geschichte Christi und die des heiligen Franz, wobei er jene griechischen Maler weit \\xc3\\xbcbertraf. Dadurch wuchs ihm der Mut. Er begann die Oberkirche allein in Fresko auszumalen und stellte in der Haupttrib\\xc3\\xbcne \\xc3\\xbcber dem Chor in vier Feldern Szenen aus der Geschichte der Mutter Gottes dar, n\\xc3\\xa4mlich ihren Tod, dann ihre Himmelfahrt und schlie\\xc3\\x9flich ihre Kr\\xc3\\xb6nung inmitten einer Schar von Engeln, wobei zu ihren F\\xc3\\xbc\\xc3\\x9fen eine Menge von Heiligen steht. Diese Bilder sind jetzt von der Zeit und vom Staube fast ganz verdorben. Auch in den f\\xc3\\xbcnf Kreuzgew\\xc3\\xb6lben derselben Kirche malte er viele Geschichten.\\nAls die Gew\\xc3\\xb6lbe vollendet waren, schm\\xc3\\xbcckte er auf der linken Seite der Kirche den ganzen oberen Teil der W\\xc3\\xa4nde in Fresko aus. Dieses sehr gro\\xc3\\x9fe, reiche und wahrhaft sch\\xc3\\xb6n ausgef\\xc3\\xbchrte Werk mu\\xc3\\x9f meines Erachtens die Welt in Erstaunen gesetzt haben, in jener Zeit, in der die Kunst so lange in Blindheit gelegen hatte. Mir jedenfalls, der ich es im Jahre 1563 sah, schien es au\\xc3\\x9ferordentlich sch\\xc3\\xb6n, zumal wenn ich bedachte, was es bedeutet, da\\xc3\\x9f Cimabue in solcher Finsternis ein solches Licht sah.Cimabue hat in der Unter- wie in der Oberkirche von Assisi Fresken gemalt. Die Zuweisung der einzelnen Bilder ist unter den Kunsthistorikern stark umstritten.\\nNach Florenz zur\\xc3\\xbcckgekehrt, malte Cimabue im Klostergang von Santo Spirito, wo von anderen Meistern die ganze Seite nach der Kirche zu auf griechische Weise verziert ist, drei Bogen mit Begebenheiten aus der Geschichte Christi, unbestreitbar von sehr sch\\xc3\\xb6ner Zeichnung.Beim Neubau des Kreuzganges (16. Jahrhundert) zerst\\xc3\\xb6rt. Nun machte er f\\xc3\\xbcr die Kirche Santa Maria Novella das Bild der Mutter Gottes, das zwischen der Kapelle Ruccellai und der des Bardi da Vernio angebracht ist. Dieses Werk ist in gr\\xc3\\xb6\\xc3\\x9ferem Ma\\xc3\\x9fstab ausgef\\xc3\\xbchrt als bisher irgendeine Figur, und einige Engel, die die Madonna umgeben, zeigen, wie er zwar noch in griechischer  Manier arbeitete, in den Umrissen und in der Methode aber sich dem neueren Stil n\\xc3\\xa4herte.Die sogenannte Madonna Ruccellai in Santa Maria Novella, heute dem Sienesen Duccio zugeschrieben.. Man hatte bis dahin nichts Besseres gesehen, und dieses Bild erweckte daher solche Bewunderung, da\\xc3\\x9f es mit viel Pracht und Trompetenschall in feierlicher Prozession vom Haus Cimabues nach der Kirche getragen, und er daf\\xc3\\xbcr reich belohnt und geehrt wurde. Auch erz\\xc3\\xa4hlt man und liest es in einigen Nachrichten von alten Malern, da\\xc3\\x9f, als Cimabue in einem Garten bei dem Tor von Sankt Peter dieses Bild malte, K\\xc3\\xb6nig Karl der \\xc3\\x84ltere von Anjou durch Florenz kam, und die Herren der Stadt, die ihm viel H\\xc3\\xb6flichkeit erwiesen, ihn unter anderem auch das Gem\\xc3\\xa4lde Cimabues besichtigen lie\\xc3\\x9fen. Niemand hatte es noch bis dahin gesehen. Als es daher dem K\\xc3\\xb6nig gezeigt wurde, eilten alle Damen und Herren von Florenz in gr\\xc3\\xb6\\xc3\\x9ftem Jubel und Gedr\\xc3\\xa4nge dorthin, was den Nachbarn so viel Vergn\\xc3\\xbcgen bereitete, da\\xc3\\x9f sie jene Vorstadt Borgo Allegri, das hei\\xc3\\x9ft \\xc2\\xbbfr\\xc3\\xb6hliche Vorstadt\\xc2\\xab nannten.\\nDa nun alle diese Werke Cimabue zu seinem gro\\xc3\\x9fen Nutzen einen ber\\xc3\\xbchmten Namen gemacht hatten, wurde er zugleich mit Arnolfo Lapi,Arnolfo di Cambio. der damals in der Baukunst sehr ber\\xc3\\xbchmt war, zum Baumeister von Santa Maria del Fiore in Florenz ernannt. Endlich aber, als er \\xc3\\xbcber sechzig Jahre alt geworden war, ging er im Jahre 1302 zu einem anderen Leben hin\\xc3\\xbcber, nachdem er die Malerei, man kann fast sagen: vom Tode erweckt hatte. Er wurde in Santa Maria del Fiore begraben und bekam folgende Grabschrift:\\nWie Cimabue geglaubt, die Feste der Malkunst zu halten,\\n      Hielt er sie lebend auch; jetzt h\\xc3\\xa4lt er die Sterne des Himmels.\\nNicht unterlassen m\\xc3\\xb6chte ich zu sagen, da\\xc3\\x9f, wenn die Gr\\xc3\\xb6\\xc3\\x9fe Giottos nicht den Ruhm des Cimabue verdunkelt h\\xc3\\xa4tte, er viel ber\\xc3\\xbchmter geworden w\\xc3\\xa4re, wie Dante in seiner Commedia zeigt, wo er im elften Gesange des Purgatorio auf die Grabschrift des Cimabue anspielt:\\nAls Maler sah man Cimabue bl\\xc3\\xbchen,\\n      Jetzt sieht man \\xc3\\xbcber ihn Giotto ragen\\n      Und jenes Glanz in tr\\xc3\\xbcber Nacht vergl\\xc3\\xbchen. \\n&nbsp;&lt;&lt;&nbsp;zur&uuml;ck&nbsp;weiter&nbsp;&gt;&gt;&nbsp;\\n\n"
     ]
    }
   ],
   "source": [
    "untagged = stripTags(string)\n",
    "print(untagged)"
   ]
  },
  {
   "cell_type": "code",
   "execution_count": null,
   "metadata": {
    "id": "0V8i-vi9pA1W"
   },
   "outputs": [],
   "source": [
    "\n",
    "def fix(name):\n",
    "    \"\"\" Fix a single .txt file\n",
    "    \"\"\"\n",
    "    input = open(name, \"rt\")\n",
    "    text = input.read()\n",
    "    input.close()\n",
    "    text = text.decode(\"utf-8\")\n",
    "\n",
    "    # Show if we get bad hits\n",
    "    for c in text:\n",
    "        if c == u\"\\xa0\":\n",
    "            print \"Ufff\"\n",
    "\n",
    "    text = text.replace(u\"\\xa0\", u\" \")\n",
    "    text = text.encode(\"utf-8\")\n",
    "\n",
    "    output = open(name, \"wt\")\n",
    "    output.write(text)\n",
    "    output.close()\n",
    "\n",
    "\n",
    "# Process all .txt files in the\n",
    "# current folder\n",
    "for f in os.listdir(os.getcwd()):\n",
    "    if f.endswith(\".txt\"):\n",
    "        fix(f)"
   ]
  }
 ],
 "metadata": {
  "colab": {
   "name": "Programminghistorian-lesson.ipynb",
   "provenance": []
  },
  "kernelspec": {
   "display_name": "Python 3",
   "language": "python",
   "name": "python3"
  },
  "language_info": {
   "codemirror_mode": {
    "name": "ipython",
    "version": 3
   },
   "file_extension": ".py",
   "mimetype": "text/x-python",
   "name": "python",
   "nbconvert_exporter": "python",
   "pygments_lexer": "ipython3",
   "version": "3.8.5"
  }
 },
 "nbformat": 4,
 "nbformat_minor": 1
}
